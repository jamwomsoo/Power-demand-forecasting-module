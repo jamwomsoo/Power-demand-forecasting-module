{
 "cells": [
  {
   "cell_type": "markdown",
   "metadata": {},
   "source": [
    "# lightGBM 실험"
   ]
  },
  {
   "cell_type": "code",
   "execution_count": 1,
   "metadata": {
    "ExecuteTime": {
     "end_time": "2020-07-28T05:25:06.814489Z",
     "start_time": "2020-07-28T05:25:03.397805Z"
    }
   },
   "outputs": [
    {
     "name": "stdout",
     "output_type": "stream",
     "text": [
      "(83271, 30) (83271,) (10409, 30) (10409,) (10409, 30) (10409,)\n"
     ]
    },
    {
     "name": "stderr",
     "output_type": "stream",
     "text": [
      "\n",
      "A value is trying to be set on a copy of a slice from a DataFrame.\n",
      "Try using .loc[row_indexer,col_indexer] = value instead\n",
      "\n",
      "See the caveats in the documentation: https://pandas.pydata.org/pandas-docs/stable/user_guide/indexing.html#returning-a-view-versus-a-copy\n"
     ]
    }
   ],
   "source": [
    "import pandas as pd # 데이터 분석\n",
    "import numpy as np # 행렬 연산\n",
    "import random # 시드 제어\n",
    "from pandas import Series, DataFrame\n",
    "import sys\n",
    "import time\n",
    "import re\n",
    "\n",
    "import seaborn as sns\n",
    "import matplotlib.pyplot as plt # 시각화\n",
    "%matplotlib inline\n",
    "\n",
    "import datetime\n",
    "from workalendar.asia import SouthKorea # 한국의 공휴일\n",
    "\n",
    "import lightgbm as lgb\n",
    "import sklearn\n",
    "from sklearn.model_selection import train_test_split\n",
    "from sklearn.tree import DecisionTreeRegressor # 모델링\n",
    "from sklearn.metrics import make_scorer\n",
    "from sklearn.model_selection import KFold\n",
    "from sklearn.model_selection import cross_val_score\n",
    "from sklearn.preprocessing import StandardScaler\n",
    "from sklearn.ensemble import RandomForestRegressor\n",
    "from sklearn.ensemble import BaggingRegressor\n",
    "\n",
    "import shap\n",
    "import skimage\n",
    "\n",
    "# 시드\n",
    "import os\n",
    "seed = 12345\n",
    "os.environ['PYTHONHASHSEED'] = str(seed)\n",
    "np.random.seed(seed)\n",
    "random.seed(seed)\n",
    "\n",
    "# load dataset\n",
    "final_ans = pd.read_csv('section_2week.csv', sep=',')\n",
    "final_ans_test = pd.read_csv('section_2week_test.csv', sep=',')\n",
    "\n",
    "final = pd.concat([final_ans, final_ans_test])\n",
    "final = final.reset_index()\n",
    "del final['index']\n",
    "\n",
    "final = final.sort_values(by=['date'], axis=0)\n",
    "\n",
    "# date의 데이터 형식이 'yyyy-mm-dd'인 string이어서 lightgbm 내부에서 float으로 데이터를 변형시키지\n",
    "# 못하여 데이터의 형식을 'yyyymmdd'로 변환\n",
    "date_lst = []\n",
    "for value in final['date'].values:\n",
    "    val = re.sub(r\"[-]\",\"\",value)\n",
    "    date_lst.append(val)\n",
    "final['date'] = date_lst\n",
    "\n",
    "X = final[final_ans.columns.difference(['power'])]\n",
    "Y = final['power']\n",
    "\n",
    "X['date'] = X['date'].astype(float)\n",
    "\n",
    "x_train, x_valtest, y_train, y_valtest = train_test_split(X, Y, test_size = 0.2, shuffle=False, random_state=seed)\n",
    "x_val, x_test, y_val, y_test = train_test_split(x_valtest, y_valtest, test_size = 0.5, shuffle=False, random_state=seed)\n",
    "print(x_train.shape, y_train.shape, x_val.shape, y_val.shape, x_test.shape, y_test.shape)"
   ]
  },
  {
   "cell_type": "markdown",
   "metadata": {},
   "source": [
    "# lightGBM"
   ]
  },
  {
   "cell_type": "code",
   "execution_count": 2,
   "metadata": {
    "ExecuteTime": {
     "end_time": "2020-07-28T05:25:10.303116Z",
     "start_time": "2020-07-28T05:25:06.815489Z"
    }
   },
   "outputs": [
    {
     "name": "stderr",
     "output_type": "stream",
     "text": [
      "Found `num_iterations` in params. Will use it instead of argument\n"
     ]
    },
    {
     "name": "stdout",
     "output_type": "stream",
     "text": [
      "Training until validation scores don't improve for 100 rounds\n",
      "[200]\tvalid_0's l1: 0.0317754\n",
      "[400]\tvalid_0's l1: 0.0317199\n",
      "Did not meet early stopping. Best iteration is:\n",
      "[392]\tvalid_0's l1: 0.0317139\n",
      "result:\n",
      "12.366641590450568\n",
      "12.771674437698572\n"
     ]
    }
   ],
   "source": [
    "train_lgb = lgb.Dataset(x_train, label = y_train)\n",
    "val_lgb = lgb.Dataset(x_val, label = y_val)\n",
    "params = {'random_seed':seed, 'bagging_seed':seed,\n",
    "          'feature_fraction_seed':seed, 'data_random_seed':seed,\n",
    "          'drop_seed':seed,\n",
    "          'num_iterations':400,\n",
    "          'boosting_type':'gbdt', 'objective':'regression_l1',\n",
    "          'learning_rate':0.05, 'num_leaves':100, 'max_depth':-1,\n",
    "          'bagging_fraction':0.1, 'feature_fraction':0.8,\n",
    "          'lambda_l1':0.0, 'lambda_l2':15.0, 'max_bin':300}\n",
    "model = lgb.train(params, train_lgb, valid_sets = val_lgb,\n",
    "                  num_boost_round = 2000, early_stopping_rounds = 100,\n",
    "                  verbose_eval = 200)\n",
    "\n",
    "lgb_test, lgb_valid = model.predict(x_test), model.predict(x_val)\n",
    "\n",
    "def smape(array_1, array_2):\n",
    "    score = 100*np.mean(2*abs(array_1 - array_2)/(abs(array_1)+abs(array_2)))\n",
    "    return score\n",
    "\n",
    "# predict과 test set의 smape 계산\n",
    "lgb_test_smape, lgb_valid_smape = smape(lgb_test, y_test), smape(lgb_valid, y_val)\n",
    "print('result:')\n",
    "print(lgb_valid_smape)\n",
    "print(lgb_test_smape)"
   ]
  },
  {
   "cell_type": "code",
   "execution_count": 3,
   "metadata": {
    "ExecuteTime": {
     "end_time": "2020-07-28T05:26:21.724325Z",
     "start_time": "2020-07-28T05:26:21.646764Z"
    }
   },
   "outputs": [],
   "source": [
    "np.savetxt('data/lgb_test.csv', lgb_test, delimiter=',')\n",
    "np.savetxt('data/y_test.csv', y_test, delimiter=',')"
   ]
  },
  {
   "cell_type": "markdown",
   "metadata": {},
   "source": [
    "## 기상데이터 제거 lightGBM"
   ]
  },
  {
   "cell_type": "code",
   "execution_count": 13,
   "metadata": {
    "ExecuteTime": {
     "end_time": "2020-07-28T05:44:54.014012Z",
     "start_time": "2020-07-28T05:44:53.974339Z"
    }
   },
   "outputs": [
    {
     "name": "stdout",
     "output_type": "stream",
     "text": [
      "(83271, 24) (83271,) (10409, 24) (10409,) (10409, 24) (10409,)\n"
     ]
    },
    {
     "name": "stderr",
     "output_type": "stream",
     "text": [
      "\n",
      "A value is trying to be set on a copy of a slice from a DataFrame.\n",
      "Try using .loc[row_indexer,col_indexer] = value instead\n",
      "\n",
      "See the caveats in the documentation: https://pandas.pydata.org/pandas-docs/stable/user_guide/indexing.html#returning-a-view-versus-a-copy\n"
     ]
    }
   ],
   "source": [
    "col = ['date','day','dayofweek','holiday','min_temp','month','power_d',\n",
    "       'power_d1','power_d10','power_d11','power_d12','power_d13','power_d14',\n",
    "       'power_d2','power_d3','power_d4','power_d5','power_d6','power_d7',\n",
    "       'power_d8','power_d9','week','weekend','year']\n",
    "X_not = X[col]\n",
    "X_not['date'] = X_not['date'].astype(float)\n",
    "\n",
    "x_train, x_valtest, y_train, y_valtest = train_test_split(X_not, Y, test_size = 0.2, shuffle=False, random_state=seed)\n",
    "x_val, x_test, y_val, y_test = train_test_split(x_valtest, y_valtest, test_size = 0.5, shuffle=False, random_state=seed)\n",
    "print(x_train.shape, y_train.shape, x_val.shape, y_val.shape, x_test.shape, y_test.shape)"
   ]
  },
  {
   "cell_type": "code",
   "execution_count": 14,
   "metadata": {
    "ExecuteTime": {
     "end_time": "2020-07-28T05:45:09.966150Z",
     "start_time": "2020-07-28T05:45:07.149127Z"
    }
   },
   "outputs": [
    {
     "name": "stderr",
     "output_type": "stream",
     "text": [
      "Found `num_iterations` in params. Will use it instead of argument\n"
     ]
    },
    {
     "name": "stdout",
     "output_type": "stream",
     "text": [
      "Training until validation scores don't improve for 100 rounds\n",
      "[200]\tvalid_0's l1: 0.0316913\n",
      "Early stopping, best iteration is:\n",
      "[275]\tvalid_0's l1: 0.0316692\n",
      "result:\n",
      "12.35703830075168\n",
      "12.890580864703786\n"
     ]
    }
   ],
   "source": [
    "train_lgb = lgb.Dataset(x_train, label = y_train)\n",
    "val_lgb = lgb.Dataset(x_val, label = y_val)\n",
    "params = {'random_seed':seed, 'bagging_seed':seed,\n",
    "          'feature_fraction_seed':seed, 'data_random_seed':seed,\n",
    "          'drop_seed':seed,\n",
    "          'num_iterations':400,\n",
    "          'boosting_type':'gbdt', 'objective':'regression_l1',\n",
    "          'learning_rate':0.05, 'num_leaves':100, 'max_depth':-1,\n",
    "          'bagging_fraction':0.1, 'feature_fraction':0.8,\n",
    "          'lambda_l1':0.0, 'lambda_l2':15.0, 'max_bin':300}\n",
    "model = lgb.train(params, train_lgb, valid_sets = val_lgb,\n",
    "                  num_boost_round = 2000, early_stopping_rounds = 100,\n",
    "                  verbose_eval = 200)\n",
    "\n",
    "lgb_test, lgb_valid = model.predict(x_test), model.predict(x_val)\n",
    "\n",
    "def smape(array_1, array_2):\n",
    "    score = 100*np.mean(2*abs(array_1 - array_2)/(abs(array_1)+abs(array_2)))\n",
    "    return score\n",
    "\n",
    "# predict과 test set의 smape 계산\n",
    "lgb_test_smape, lgb_valid_smape = smape(lgb_test, y_test), smape(lgb_valid, y_val)\n",
    "print('result:')\n",
    "print(lgb_valid_smape)\n",
    "print(lgb_test_smape)"
   ]
  },
  {
   "cell_type": "code",
   "execution_count": null,
   "metadata": {},
   "outputs": [],
   "source": []
  },
  {
   "cell_type": "code",
   "execution_count": null,
   "metadata": {},
   "outputs": [],
   "source": []
  }
 ],
 "metadata": {
  "kernelspec": {
   "display_name": "Tensorflow",
   "language": "python",
   "name": "tensorflow"
  },
  "language_info": {
   "codemirror_mode": {
    "name": "ipython",
    "version": 3
   },
   "file_extension": ".py",
   "mimetype": "text/x-python",
   "name": "python",
   "nbconvert_exporter": "python",
   "pygments_lexer": "ipython3",
   "version": "3.7.6"
  }
 },
 "nbformat": 4,
 "nbformat_minor": 4
}
