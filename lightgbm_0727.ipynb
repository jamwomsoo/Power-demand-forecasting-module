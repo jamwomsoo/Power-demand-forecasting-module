{
 "cells": [
  {
   "cell_type": "markdown",
   "metadata": {},
   "source": [
    "# 라이브러리 및 데이터"
   ]
  },
  {
   "cell_type": "markdown",
   "metadata": {},
   "source": [
    "### 라이브러리"
   ]
  },
  {
   "cell_type": "code",
   "execution_count": 5,
   "metadata": {
    "ExecuteTime": {
     "end_time": "2020-07-27T08:26:49.562490Z",
     "start_time": "2020-07-27T08:26:49.505056Z"
    }
   },
   "outputs": [],
   "source": [
    "import pandas as pd # 데이터 분석\n",
    "import numpy as np # 행렬 연산\n",
    "import random # 시드 제어\n",
    "from pandas import Series, DataFrame\n",
    "import sys\n",
    "import time\n",
    "import re\n",
    "\n",
    "import seaborn as sns\n",
    "import matplotlib.pyplot as plt # 시각화\n",
    "%matplotlib inline\n",
    "\n",
    "import datetime\n",
    "from workalendar.asia import SouthKorea # 한국의 공휴일\n",
    "\n",
    "import lightgbm as lgb\n",
    "import xgboost as xgb\n",
    "import catboost as cb\n",
    "\n",
    "import sklearn\n",
    "from sklearn.model_selection import train_test_split\n",
    "from sklearn.tree import DecisionTreeRegressor # 모델링\n",
    "from sklearn.metrics import make_scorer\n",
    "from sklearn.model_selection import KFold\n",
    "from sklearn.model_selection import cross_val_score\n",
    "from sklearn.preprocessing import StandardScaler\n",
    "from sklearn.ensemble import RandomForestRegressor\n",
    "from sklearn.ensemble import BaggingRegressor\n",
    "\n",
    "import shap\n",
    "import skimage\n",
    "\n",
    "# 시드\n",
    "import os\n",
    "seed = 12345\n",
    "os.environ['PYTHONHASHSEED'] = str(seed)\n",
    "np.random.seed(seed)\n",
    "random.seed(seed)"
   ]
  },
  {
   "cell_type": "markdown",
   "metadata": {},
   "source": [
    "### 데이터셋 처리 및 분류"
   ]
  },
  {
   "cell_type": "code",
   "execution_count": 6,
   "metadata": {
    "ExecuteTime": {
     "end_time": "2020-07-27T08:26:54.113572Z",
     "start_time": "2020-07-27T08:26:53.817101Z"
    }
   },
   "outputs": [],
   "source": [
    "final_ans = pd.read_csv('section_1week.csv', sep=',')\n",
    "final_ans_test = pd.read_csv('section_1week_test.csv', sep=',')"
   ]
  },
  {
   "cell_type": "code",
   "execution_count": 8,
   "metadata": {
    "ExecuteTime": {
     "end_time": "2020-07-27T08:27:06.565750Z",
     "start_time": "2020-07-27T08:27:06.453198Z"
    }
   },
   "outputs": [
    {
     "data": {
      "text/html": [
       "<div>\n",
       "<style scoped>\n",
       "    .dataframe tbody tr th:only-of-type {\n",
       "        vertical-align: middle;\n",
       "    }\n",
       "\n",
       "    .dataframe tbody tr th {\n",
       "        vertical-align: top;\n",
       "    }\n",
       "\n",
       "    .dataframe thead th {\n",
       "        text-align: right;\n",
       "    }\n",
       "</style>\n",
       "<table border=\"1\" class=\"dataframe\">\n",
       "  <thead>\n",
       "    <tr style=\"text-align: right;\">\n",
       "      <th></th>\n",
       "      <th>date</th>\n",
       "      <th>avg_temp</th>\n",
       "      <th>min_temp</th>\n",
       "      <th>max_temp</th>\n",
       "      <th>rain_d</th>\n",
       "      <th>wind_d</th>\n",
       "      <th>wet_d</th>\n",
       "      <th>snow_d</th>\n",
       "      <th>year</th>\n",
       "      <th>month</th>\n",
       "      <th>...</th>\n",
       "      <th>holiday</th>\n",
       "      <th>power_d</th>\n",
       "      <th>power_d7</th>\n",
       "      <th>power_d6</th>\n",
       "      <th>power_d5</th>\n",
       "      <th>power_d4</th>\n",
       "      <th>power_d3</th>\n",
       "      <th>power_d2</th>\n",
       "      <th>power_d1</th>\n",
       "      <th>power</th>\n",
       "    </tr>\n",
       "  </thead>\n",
       "  <tbody>\n",
       "    <tr>\n",
       "      <th>0</th>\n",
       "      <td>2017-09-05</td>\n",
       "      <td>22.5</td>\n",
       "      <td>21.4</td>\n",
       "      <td>23.7</td>\n",
       "      <td>0.0</td>\n",
       "      <td>2.016667</td>\n",
       "      <td>63.500000</td>\n",
       "      <td>0.0</td>\n",
       "      <td>2017</td>\n",
       "      <td>9</td>\n",
       "      <td>...</td>\n",
       "      <td>0.0</td>\n",
       "      <td>0.133349</td>\n",
       "      <td>0.117071</td>\n",
       "      <td>0.116292</td>\n",
       "      <td>0.127583</td>\n",
       "      <td>0.124333</td>\n",
       "      <td>0.131833</td>\n",
       "      <td>0.138917</td>\n",
       "      <td>0.177417</td>\n",
       "      <td>0.181292</td>\n",
       "    </tr>\n",
       "    <tr>\n",
       "      <th>1</th>\n",
       "      <td>2017-09-06</td>\n",
       "      <td>20.8</td>\n",
       "      <td>18.7</td>\n",
       "      <td>23.1</td>\n",
       "      <td>1.9</td>\n",
       "      <td>1.533333</td>\n",
       "      <td>82.458333</td>\n",
       "      <td>0.0</td>\n",
       "      <td>2017</td>\n",
       "      <td>9</td>\n",
       "      <td>...</td>\n",
       "      <td>0.0</td>\n",
       "      <td>0.142524</td>\n",
       "      <td>0.116292</td>\n",
       "      <td>0.127583</td>\n",
       "      <td>0.124333</td>\n",
       "      <td>0.131833</td>\n",
       "      <td>0.138917</td>\n",
       "      <td>0.177417</td>\n",
       "      <td>0.181292</td>\n",
       "      <td>0.170667</td>\n",
       "    </tr>\n",
       "    <tr>\n",
       "      <th>2</th>\n",
       "      <td>2017-09-07</td>\n",
       "      <td>22.2</td>\n",
       "      <td>18.4</td>\n",
       "      <td>25.8</td>\n",
       "      <td>0.0</td>\n",
       "      <td>2.095833</td>\n",
       "      <td>80.083333</td>\n",
       "      <td>0.0</td>\n",
       "      <td>2017</td>\n",
       "      <td>9</td>\n",
       "      <td>...</td>\n",
       "      <td>0.0</td>\n",
       "      <td>0.150292</td>\n",
       "      <td>0.127583</td>\n",
       "      <td>0.124333</td>\n",
       "      <td>0.131833</td>\n",
       "      <td>0.138917</td>\n",
       "      <td>0.177417</td>\n",
       "      <td>0.181292</td>\n",
       "      <td>0.170667</td>\n",
       "      <td>0.166458</td>\n",
       "    </tr>\n",
       "    <tr>\n",
       "      <th>3</th>\n",
       "      <td>2017-09-08</td>\n",
       "      <td>23.6</td>\n",
       "      <td>21.2</td>\n",
       "      <td>27.4</td>\n",
       "      <td>0.0</td>\n",
       "      <td>1.925000</td>\n",
       "      <td>77.833333</td>\n",
       "      <td>0.0</td>\n",
       "      <td>2017</td>\n",
       "      <td>9</td>\n",
       "      <td>...</td>\n",
       "      <td>0.0</td>\n",
       "      <td>0.155845</td>\n",
       "      <td>0.124333</td>\n",
       "      <td>0.131833</td>\n",
       "      <td>0.138917</td>\n",
       "      <td>0.177417</td>\n",
       "      <td>0.181292</td>\n",
       "      <td>0.170667</td>\n",
       "      <td>0.166458</td>\n",
       "      <td>0.146000</td>\n",
       "    </tr>\n",
       "    <tr>\n",
       "      <th>4</th>\n",
       "      <td>2017-09-09</td>\n",
       "      <td>23.4</td>\n",
       "      <td>20.7</td>\n",
       "      <td>27.1</td>\n",
       "      <td>0.0</td>\n",
       "      <td>2.004167</td>\n",
       "      <td>80.958333</td>\n",
       "      <td>0.0</td>\n",
       "      <td>2017</td>\n",
       "      <td>9</td>\n",
       "      <td>...</td>\n",
       "      <td>0.0</td>\n",
       "      <td>0.158940</td>\n",
       "      <td>0.131833</td>\n",
       "      <td>0.138917</td>\n",
       "      <td>0.177417</td>\n",
       "      <td>0.181292</td>\n",
       "      <td>0.170667</td>\n",
       "      <td>0.166458</td>\n",
       "      <td>0.146000</td>\n",
       "      <td>0.250613</td>\n",
       "    </tr>\n",
       "    <tr>\n",
       "      <th>...</th>\n",
       "      <td>...</td>\n",
       "      <td>...</td>\n",
       "      <td>...</td>\n",
       "      <td>...</td>\n",
       "      <td>...</td>\n",
       "      <td>...</td>\n",
       "      <td>...</td>\n",
       "      <td>...</td>\n",
       "      <td>...</td>\n",
       "      <td>...</td>\n",
       "      <td>...</td>\n",
       "      <td>...</td>\n",
       "      <td>...</td>\n",
       "      <td>...</td>\n",
       "      <td>...</td>\n",
       "      <td>...</td>\n",
       "      <td>...</td>\n",
       "      <td>...</td>\n",
       "      <td>...</td>\n",
       "      <td>...</td>\n",
       "      <td>...</td>\n",
       "    </tr>\n",
       "    <tr>\n",
       "      <th>106576</th>\n",
       "      <td>2018-06-26</td>\n",
       "      <td>21.3</td>\n",
       "      <td>19.4</td>\n",
       "      <td>24.0</td>\n",
       "      <td>5.8</td>\n",
       "      <td>3.820833</td>\n",
       "      <td>90.166667</td>\n",
       "      <td>0.0</td>\n",
       "      <td>2018</td>\n",
       "      <td>6</td>\n",
       "      <td>...</td>\n",
       "      <td>0.0</td>\n",
       "      <td>0.386967</td>\n",
       "      <td>0.393125</td>\n",
       "      <td>0.342542</td>\n",
       "      <td>0.340542</td>\n",
       "      <td>0.339744</td>\n",
       "      <td>0.482649</td>\n",
       "      <td>0.428500</td>\n",
       "      <td>0.381667</td>\n",
       "      <td>0.370125</td>\n",
       "    </tr>\n",
       "    <tr>\n",
       "      <th>106577</th>\n",
       "      <td>2018-06-27</td>\n",
       "      <td>20.5</td>\n",
       "      <td>18.5</td>\n",
       "      <td>23.0</td>\n",
       "      <td>0.2</td>\n",
       "      <td>2.583333</td>\n",
       "      <td>93.625000</td>\n",
       "      <td>0.0</td>\n",
       "      <td>2018</td>\n",
       "      <td>6</td>\n",
       "      <td>...</td>\n",
       "      <td>0.0</td>\n",
       "      <td>0.383681</td>\n",
       "      <td>0.342542</td>\n",
       "      <td>0.340542</td>\n",
       "      <td>0.339744</td>\n",
       "      <td>0.482649</td>\n",
       "      <td>0.428500</td>\n",
       "      <td>0.381667</td>\n",
       "      <td>0.370125</td>\n",
       "      <td>0.307042</td>\n",
       "    </tr>\n",
       "    <tr>\n",
       "      <th>106578</th>\n",
       "      <td>2018-06-28</td>\n",
       "      <td>22.3</td>\n",
       "      <td>20.0</td>\n",
       "      <td>25.1</td>\n",
       "      <td>2.4</td>\n",
       "      <td>2.250000</td>\n",
       "      <td>93.583333</td>\n",
       "      <td>0.0</td>\n",
       "      <td>2018</td>\n",
       "      <td>6</td>\n",
       "      <td>...</td>\n",
       "      <td>0.0</td>\n",
       "      <td>0.378610</td>\n",
       "      <td>0.340542</td>\n",
       "      <td>0.339744</td>\n",
       "      <td>0.482649</td>\n",
       "      <td>0.428500</td>\n",
       "      <td>0.381667</td>\n",
       "      <td>0.370125</td>\n",
       "      <td>0.307042</td>\n",
       "      <td>0.365125</td>\n",
       "    </tr>\n",
       "    <tr>\n",
       "      <th>106579</th>\n",
       "      <td>2018-06-29</td>\n",
       "      <td>22.3</td>\n",
       "      <td>20.0</td>\n",
       "      <td>26.0</td>\n",
       "      <td>0.4</td>\n",
       "      <td>1.879167</td>\n",
       "      <td>90.208333</td>\n",
       "      <td>0.0</td>\n",
       "      <td>2018</td>\n",
       "      <td>6</td>\n",
       "      <td>...</td>\n",
       "      <td>0.0</td>\n",
       "      <td>0.382122</td>\n",
       "      <td>0.339744</td>\n",
       "      <td>0.482649</td>\n",
       "      <td>0.428500</td>\n",
       "      <td>0.381667</td>\n",
       "      <td>0.370125</td>\n",
       "      <td>0.307042</td>\n",
       "      <td>0.365125</td>\n",
       "      <td>0.269702</td>\n",
       "    </tr>\n",
       "    <tr>\n",
       "      <th>106580</th>\n",
       "      <td>2018-06-30</td>\n",
       "      <td>24.0</td>\n",
       "      <td>19.5</td>\n",
       "      <td>28.5</td>\n",
       "      <td>0.0</td>\n",
       "      <td>1.395833</td>\n",
       "      <td>84.916667</td>\n",
       "      <td>0.0</td>\n",
       "      <td>2018</td>\n",
       "      <td>6</td>\n",
       "      <td>...</td>\n",
       "      <td>0.0</td>\n",
       "      <td>0.372116</td>\n",
       "      <td>0.482649</td>\n",
       "      <td>0.428500</td>\n",
       "      <td>0.381667</td>\n",
       "      <td>0.370125</td>\n",
       "      <td>0.307042</td>\n",
       "      <td>0.365125</td>\n",
       "      <td>0.269702</td>\n",
       "      <td>0.216969</td>\n",
       "    </tr>\n",
       "  </tbody>\n",
       "</table>\n",
       "<p>106581 rows × 24 columns</p>\n",
       "</div>"
      ],
      "text/plain": [
       "              date  avg_temp  min_temp  max_temp  rain_d    wind_d      wet_d  \\\n",
       "0       2017-09-05      22.5      21.4      23.7     0.0  2.016667  63.500000   \n",
       "1       2017-09-06      20.8      18.7      23.1     1.9  1.533333  82.458333   \n",
       "2       2017-09-07      22.2      18.4      25.8     0.0  2.095833  80.083333   \n",
       "3       2017-09-08      23.6      21.2      27.4     0.0  1.925000  77.833333   \n",
       "4       2017-09-09      23.4      20.7      27.1     0.0  2.004167  80.958333   \n",
       "...            ...       ...       ...       ...     ...       ...        ...   \n",
       "106576  2018-06-26      21.3      19.4      24.0     5.8  3.820833  90.166667   \n",
       "106577  2018-06-27      20.5      18.5      23.0     0.2  2.583333  93.625000   \n",
       "106578  2018-06-28      22.3      20.0      25.1     2.4  2.250000  93.583333   \n",
       "106579  2018-06-29      22.3      20.0      26.0     0.4  1.879167  90.208333   \n",
       "106580  2018-06-30      24.0      19.5      28.5     0.0  1.395833  84.916667   \n",
       "\n",
       "        snow_d  year  month  ...  holiday   power_d  power_d7  power_d6  \\\n",
       "0          0.0  2017      9  ...      0.0  0.133349  0.117071  0.116292   \n",
       "1          0.0  2017      9  ...      0.0  0.142524  0.116292  0.127583   \n",
       "2          0.0  2017      9  ...      0.0  0.150292  0.127583  0.124333   \n",
       "3          0.0  2017      9  ...      0.0  0.155845  0.124333  0.131833   \n",
       "4          0.0  2017      9  ...      0.0  0.158940  0.131833  0.138917   \n",
       "...        ...   ...    ...  ...      ...       ...       ...       ...   \n",
       "106576     0.0  2018      6  ...      0.0  0.386967  0.393125  0.342542   \n",
       "106577     0.0  2018      6  ...      0.0  0.383681  0.342542  0.340542   \n",
       "106578     0.0  2018      6  ...      0.0  0.378610  0.340542  0.339744   \n",
       "106579     0.0  2018      6  ...      0.0  0.382122  0.339744  0.482649   \n",
       "106580     0.0  2018      6  ...      0.0  0.372116  0.482649  0.428500   \n",
       "\n",
       "        power_d5  power_d4  power_d3  power_d2  power_d1     power  \n",
       "0       0.127583  0.124333  0.131833  0.138917  0.177417  0.181292  \n",
       "1       0.124333  0.131833  0.138917  0.177417  0.181292  0.170667  \n",
       "2       0.131833  0.138917  0.177417  0.181292  0.170667  0.166458  \n",
       "3       0.138917  0.177417  0.181292  0.170667  0.166458  0.146000  \n",
       "4       0.177417  0.181292  0.170667  0.166458  0.146000  0.250613  \n",
       "...          ...       ...       ...       ...       ...       ...  \n",
       "106576  0.340542  0.339744  0.482649  0.428500  0.381667  0.370125  \n",
       "106577  0.339744  0.482649  0.428500  0.381667  0.370125  0.307042  \n",
       "106578  0.482649  0.428500  0.381667  0.370125  0.307042  0.365125  \n",
       "106579  0.428500  0.381667  0.370125  0.307042  0.365125  0.269702  \n",
       "106580  0.381667  0.370125  0.307042  0.365125  0.269702  0.216969  \n",
       "\n",
       "[106581 rows x 24 columns]"
      ]
     },
     "execution_count": 8,
     "metadata": {},
     "output_type": "execute_result"
    }
   ],
   "source": [
    "final = pd.concat([final_ans, final_ans_test])\n",
    "final = final.reset_index()\n",
    "del final['index']\n",
    "\n",
    "final = final.sort_values(by=['date'], axis=0)\n",
    "\n",
    "# date의 데이터 형식이 'yyyy-mm-dd'인 string이어서 lightgbm 내부에서 float으로 데이터를 변형시키지\n",
    "# 못하여 데이터의 형식을 'yyyymmdd'로 변환\n",
    "date_lst = []\n",
    "for value in final['date'].values:\n",
    "    val = re.sub(r\"[-]\",\"\",value)\n",
    "    date_lst.append(val)\n",
    "final['date'] = date_lst\n",
    "final"
   ]
  },
  {
   "cell_type": "code",
   "execution_count": 11,
   "metadata": {
    "ExecuteTime": {
     "end_time": "2020-07-27T08:27:48.729473Z",
     "start_time": "2020-07-27T08:27:48.561316Z"
    }
   },
   "outputs": [
    {
     "name": "stdout",
     "output_type": "stream",
     "text": [
      "(85264, 23) (85264,) (10658, 23) (10658,) (10659, 23) (10659,)\n"
     ]
    },
    {
     "name": "stderr",
     "output_type": "stream",
     "text": [
      "\n",
      "A value is trying to be set on a copy of a slice from a DataFrame.\n",
      "Try using .loc[row_indexer,col_indexer] = value instead\n",
      "\n",
      "See the caveats in the documentation: https://pandas.pydata.org/pandas-docs/stable/user_guide/indexing.html#returning-a-view-versus-a-copy\n"
     ]
    }
   ],
   "source": [
    "X = final[final_ans.columns.difference(['power'])]\n",
    "Y = final['power']\n",
    "\n",
    "X['date'] = X['date'].astype(float)\n",
    "\n",
    "x_train, x_valtest, y_train, y_valtest = train_test_split(X, Y, test_size = 0.2, shuffle=False, random_state=seed)\n",
    "x_val, x_test, y_val, y_test = train_test_split(x_valtest, y_valtest, test_size = 0.5, shuffle=False, random_state=seed)\n",
    "print(x_train.shape, y_train.shape, x_val.shape, y_val.shape, x_test.shape, y_test.shape)"
   ]
  },
  {
   "cell_type": "code",
   "execution_count": 12,
   "metadata": {
    "ExecuteTime": {
     "end_time": "2020-07-27T08:27:55.196189Z",
     "start_time": "2020-07-27T08:27:55.189160Z"
    }
   },
   "outputs": [
    {
     "name": "stdout",
     "output_type": "stream",
     "text": [
      "avg_temp     float64\n",
      "date         float64\n",
      "day            int64\n",
      "dayofweek      int64\n",
      "holiday      float64\n",
      "max_temp     float64\n",
      "min_temp     float64\n",
      "month          int64\n",
      "power_d      float64\n",
      "power_d1     float64\n",
      "power_d2     float64\n",
      "power_d3     float64\n",
      "power_d4     float64\n",
      "power_d5     float64\n",
      "power_d6     float64\n",
      "power_d7     float64\n",
      "rain_d       float64\n",
      "snow_d       float64\n",
      "week           int64\n",
      "weekend        int64\n",
      "wet_d        float64\n",
      "wind_d       float64\n",
      "year           int64\n",
      "dtype: object\n",
      "avg_temp     float64\n",
      "date         float64\n",
      "day            int64\n",
      "dayofweek      int64\n",
      "holiday      float64\n",
      "max_temp     float64\n",
      "min_temp     float64\n",
      "month          int64\n",
      "power_d      float64\n",
      "power_d1     float64\n",
      "power_d2     float64\n",
      "power_d3     float64\n",
      "power_d4     float64\n",
      "power_d5     float64\n",
      "power_d6     float64\n",
      "power_d7     float64\n",
      "rain_d       float64\n",
      "snow_d       float64\n",
      "week           int64\n",
      "weekend        int64\n",
      "wet_d        float64\n",
      "wind_d       float64\n",
      "year           int64\n",
      "dtype: object\n",
      "avg_temp     float64\n",
      "date         float64\n",
      "day            int64\n",
      "dayofweek      int64\n",
      "holiday      float64\n",
      "max_temp     float64\n",
      "min_temp     float64\n",
      "month          int64\n",
      "power_d      float64\n",
      "power_d1     float64\n",
      "power_d2     float64\n",
      "power_d3     float64\n",
      "power_d4     float64\n",
      "power_d5     float64\n",
      "power_d6     float64\n",
      "power_d7     float64\n",
      "rain_d       float64\n",
      "snow_d       float64\n",
      "week           int64\n",
      "weekend        int64\n",
      "wet_d        float64\n",
      "wind_d       float64\n",
      "year           int64\n",
      "dtype: object\n"
     ]
    }
   ],
   "source": [
    "print(x_train.dtypes)\n",
    "print(x_val.dtypes)\n",
    "print(x_test.dtypes)"
   ]
  },
  {
   "cell_type": "markdown",
   "metadata": {},
   "source": [
    "# lightGBM"
   ]
  },
  {
   "cell_type": "code",
   "execution_count": 13,
   "metadata": {
    "ExecuteTime": {
     "end_time": "2020-07-27T08:28:10.731126Z",
     "start_time": "2020-07-27T08:28:00.847343Z"
    }
   },
   "outputs": [
    {
     "name": "stdout",
     "output_type": "stream",
     "text": [
      "Training until validation scores don't improve for 100 rounds\n",
      "[200]\tvalid_0's huber: 0.00410296\n",
      "[400]\tvalid_0's huber: 0.00316424\n",
      "[600]\tvalid_0's huber: 0.00252605\n",
      "[800]\tvalid_0's huber: 0.00209568\n",
      "[1000]\tvalid_0's huber: 0.00180797\n",
      "[1200]\tvalid_0's huber: 0.00160666\n",
      "[1400]\tvalid_0's huber: 0.001467\n",
      "[1600]\tvalid_0's huber: 0.00136919\n",
      "[1800]\tvalid_0's huber: 0.00130067\n",
      "[2000]\tvalid_0's huber: 0.00125366\n",
      "Did not meet early stopping. Best iteration is:\n",
      "[2000]\tvalid_0's huber: 0.00125366\n"
     ]
    }
   ],
   "source": [
    "train_lgb = lgb.Dataset(x_train, label = y_train)\n",
    "val_lgb = lgb.Dataset(x_val, label = y_val)\n",
    "params = {'random_seed':seed, 'bagging_seed':seed,\n",
    "          'feature_fraction_seed':seed, 'data_random_seed':seed,\n",
    "          'drop_seed':seed,\n",
    "          \n",
    "          'boosting_type':'gbdt', 'objective':'huber',\n",
    "          'learning_rate':0.001, 'num_leaves':63, 'max_depth':-1,\n",
    "          'bagging_fraction':0.1, 'feature_fraction':0.8,\n",
    "          'lambda_l1':10.0, 'lambda_l2':30.0, 'max_bin':255}\n",
    "model = lgb.train(params, train_lgb, valid_sets = val_lgb,\n",
    "                  num_boost_round = 2000, early_stopping_rounds = 100,\n",
    "                  verbose_eval = 200)"
   ]
  },
  {
   "cell_type": "code",
   "execution_count": 14,
   "metadata": {
    "ExecuteTime": {
     "end_time": "2020-07-27T08:28:13.687000Z",
     "start_time": "2020-07-27T08:28:13.048374Z"
    }
   },
   "outputs": [],
   "source": [
    "lgb_test, lgb_valid = model.predict(x_test), model.predict(x_val)"
   ]
  },
  {
   "cell_type": "code",
   "execution_count": 15,
   "metadata": {
    "ExecuteTime": {
     "end_time": "2020-07-27T08:28:15.938918Z",
     "start_time": "2020-07-27T08:28:15.935005Z"
    }
   },
   "outputs": [],
   "source": [
    "def smape(array_1, array_2):\n",
    "    score = 100*np.mean(2*abs(array_1 - array_2)/(abs(array_1)+abs(array_2)))\n",
    "    return score"
   ]
  },
  {
   "cell_type": "code",
   "execution_count": 16,
   "metadata": {
    "ExecuteTime": {
     "end_time": "2020-07-27T08:28:16.185349Z",
     "start_time": "2020-07-27T08:28:16.160314Z"
    }
   },
   "outputs": [
    {
     "name": "stdout",
     "output_type": "stream",
     "text": [
      "15.829889535604028\n",
      "15.762092349795312\n"
     ]
    }
   ],
   "source": [
    "# predict과 test set의 smape 계산\n",
    "lgb_test_smape, lgb_valid_smape = smape(lgb_test, y_test), smape(lgb_valid, y_val)\n",
    "\n",
    "print(lgb_test_smape)\n",
    "print(lgb_valid_smape)"
   ]
  },
  {
   "cell_type": "code",
   "execution_count": null,
   "metadata": {
    "ExecuteTime": {
     "end_time": "2020-07-27T02:26:54.423588Z",
     "start_time": "2020-07-27T02:26:52.599Z"
    }
   },
   "outputs": [],
   "source": [
    "np.savetxt('data/lgb_test.csv', lgb_test, delimiter=',')\n",
    "np.savetxt('data/y_test.csv', y_test, delimiter=',')"
   ]
  },
  {
   "cell_type": "markdown",
   "metadata": {},
   "source": [
    "# lightGBM 결과 분석"
   ]
  },
  {
   "cell_type": "code",
   "execution_count": null,
   "metadata": {
    "ExecuteTime": {
     "end_time": "2020-07-27T02:26:54.425589Z",
     "start_time": "2020-07-27T02:26:52.601Z"
    }
   },
   "outputs": [],
   "source": [
    "explainer = shap.TreeExplainer(model)\n",
    "shap_values = explainer.shap_values(x_test)"
   ]
  },
  {
   "cell_type": "code",
   "execution_count": null,
   "metadata": {
    "ExecuteTime": {
     "end_time": "2020-07-27T02:26:54.428591Z",
     "start_time": "2020-07-27T02:26:52.603Z"
    }
   },
   "outputs": [],
   "source": [
    "shap.summary_plot(shap_values, x_test)"
   ]
  },
  {
   "cell_type": "code",
   "execution_count": null,
   "metadata": {
    "ExecuteTime": {
     "end_time": "2020-07-27T02:26:54.430587Z",
     "start_time": "2020-07-27T02:26:52.604Z"
    }
   },
   "outputs": [],
   "source": [
    "shap.summary_plot(shap_values, x_test, plot_type=\"bar\")"
   ]
  },
  {
   "cell_type": "code",
   "execution_count": null,
   "metadata": {
    "ExecuteTime": {
     "end_time": "2020-07-27T02:26:54.431587Z",
     "start_time": "2020-07-27T02:26:52.605Z"
    }
   },
   "outputs": [],
   "source": [
    "shap.dependence_plot('power_d1', shap_values, x_test)"
   ]
  },
  {
   "cell_type": "markdown",
   "metadata": {},
   "source": [
    "# Decision tree"
   ]
  },
  {
   "cell_type": "code",
   "execution_count": null,
   "metadata": {},
   "outputs": [],
   "source": [
    "tree = DecisionTreeRegressor(ccp_alpha=0.0, criterion='mse', max_depth=5,\n",
    "                             max_features=len(final_ans.columns.difference(['power'])),\n",
    "                             max_leaf_nodes=None, min_impurity_decrease=0.0, \n",
    "                             min_impurity_split=None, min_samples_leaf=1,\n",
    "                             min_samples_split=2, min_weight_fraction_leaf=0.0,\n",
    "                             presort='deprecated', random_state=seed, splitter='best')"
   ]
  },
  {
   "cell_type": "code",
   "execution_count": null,
   "metadata": {},
   "outputs": [],
   "source": [
    "start = time.time()\n",
    "tree_fit = tree.fit(x_train, y_train)\n",
    "predictions = tree_fit.predict(x_test)\n",
    "validations = tree_fit.predict(x_val)\n",
    "test_score = smape(predictions, y_test)\n",
    "val_score = smape(validations, y_val)\n",
    "print(test_score)\n",
    "print(val_score)\n",
    "print(\"Time: %.2f\" % (time.time() - start)) # 코드 실행 시간 계산"
   ]
  },
  {
   "cell_type": "markdown",
   "metadata": {},
   "source": [
    "# Random forest"
   ]
  },
  {
   "cell_type": "code",
   "execution_count": null,
   "metadata": {},
   "outputs": [],
   "source": [
    "rand_tree = RandomForestRegressor(n_estimators=50, criterion='mse', max_depth=None,\n",
    "                                  min_samples_split=2, min_samples_leaf=1,\n",
    "                                  min_weight_fraction_leaf=0.0, max_features=len(final_ans.columns.difference(['power'])),\n",
    "                                  max_leaf_nodes=None, min_impurity_decrease=0.0, min_impurity_split=None,\n",
    "                                  bootstrap=True, oob_score=False, n_jobs=None, random_state=seed,\n",
    "                                  verbose=0, warm_start=False, ccp_alpha=0.0, max_samples=None)"
   ]
  },
  {
   "cell_type": "code",
   "execution_count": null,
   "metadata": {},
   "outputs": [],
   "source": [
    "start = time.time()\n",
    "rand_tree_fit = rand_tree.fit(x_train, y_train)\n",
    "predictions = rand_tree_fit.predict(x_test)\n",
    "validations = rand_tree_fit.predict(x_val)\n",
    "test_score = smape(predictions, y_test)\n",
    "val_score = smape(validations, y_val)\n",
    "print(test_score)\n",
    "print(val_score)\n",
    "print(\"Time: %.2f\" % (time.time() - start)) # 코드 실행 시간 계산"
   ]
  },
  {
   "cell_type": "markdown",
   "metadata": {},
   "source": [
    "# Bagging"
   ]
  },
  {
   "cell_type": "code",
   "execution_count": null,
   "metadata": {},
   "outputs": [],
   "source": [
    "bagging_tree = BaggingRegressor(base_estimator=tree, n_estimators=30, *,\n",
    "                                max_samples=1.0, max_features=1.0, bootstrap=True,\n",
    "                                bootstrap_features=False, oob_score=False,\n",
    "                                warm_start=False, n_jobs=None, random_state=seed,\n",
    "                                verbose=0)"
   ]
  },
  {
   "cell_type": "code",
   "execution_count": null,
   "metadata": {},
   "outputs": [],
   "source": [
    "start = time.time()\n",
    "bagging_tree_fit = bagging_tree.fit(x_train, y_train)\n",
    "predictions = bagging_tree_fit.predict(x_test)\n",
    "validations = bagging_tree_fit.predict(x_val)\n",
    "test_score = smape(predictions, y_test)\n",
    "val_score = smape(validations, y_val)\n",
    "print(test_score)\n",
    "print(val_score)\n",
    "print(\"Time: %.2f\" % (time.time() - start)) # 코드 실행 시간 계산"
   ]
  },
  {
   "cell_type": "markdown",
   "metadata": {},
   "source": [
    "# Extra tree"
   ]
  },
  {
   "cell_type": "code",
   "execution_count": null,
   "metadata": {},
   "outputs": [],
   "source": [
    "extra_tree = ExtraTreeRegressor(criterion='mse', splitter='random', max_depth=None,\n",
    "                                min_samples_split=2, min_samples_leaf=1,\n",
    "                                min_weight_fraction_leaf=0.0, max_features=len(feature_names),\n",
    "                                random_state=seed, min_impurity_decrease=0.0, min_impurity_split=None,\n",
    "                                max_leaf_nodes=None, ccp_alpha=0.0)"
   ]
  },
  {
   "cell_type": "code",
   "execution_count": null,
   "metadata": {},
   "outputs": [],
   "source": [
    "start = time.time()\n",
    "extra_tree_fit = extra_tree.fit(x_train, y_train)\n",
    "predictions = extra_tree_fit.predict(x_test)\n",
    "validations = extra_tree_fit.predict(x_val)\n",
    "test_score = smape(predictions, y_test)\n",
    "val_score = smape(validations, y_val)\n",
    "print(test_score)\n",
    "print(val_score)\n",
    "print(\"Time: %.2f\" % (time.time() - start)) # 코드 실행 시간 계산"
   ]
  },
  {
   "cell_type": "markdown",
   "metadata": {},
   "source": [
    "# Adaboost"
   ]
  },
  {
   "cell_type": "code",
   "execution_count": null,
   "metadata": {},
   "outputs": [],
   "source": [
    "adabst = AdaBoostRegressor(base_estimator=None, n_estimators=50,\n",
    "                           learning_rate=1.0, loss='linear', random_state=None)"
   ]
  },
  {
   "cell_type": "code",
   "execution_count": null,
   "metadata": {},
   "outputs": [],
   "source": [
    "start = time.time()\n",
    "adabst_fit = adabst.fit(x_train, y_train)\n",
    "predictions = adabst_fit.predict(x_test)\n",
    "validations = adabst_fit.predict(x_val)\n",
    "test_score = smape(predictions, y_test)\n",
    "val_score = smape(validations, y_val)\n",
    "print(test_score)\n",
    "print(val_score)\n",
    "print(\"Time: %.2f\" % (time.time() - start)) # 코드 실행 시간 계산"
   ]
  },
  {
   "cell_type": "markdown",
   "metadata": {},
   "source": [
    "# Xgboost"
   ]
  },
  {
   "cell_type": "code",
   "execution_count": null,
   "metadata": {},
   "outputs": [],
   "source": [
    "start = time.time()\n",
    "\n",
    "train_xgb = xgb.DMatrix(data = x_train, label = y_train)\n",
    "val_xgb = xgb.DMatirx(data = x_val, label = y_val)\n",
    "test_xgb = xgb.DMatrix(data = x_test, label = y_test)\n",
    "\n",
    "xgb_parm = {'max_depth': 10, # 트리 깊이\n",
    "           'learning_rate': 0.01, # Step Size\n",
    "           'n_estimators': 100, # Number of trees, 트리 생성 개수\n",
    "           'objective': 'reg:squarederror', # 목적 함수\n",
    "           'num_class': len(set(y_train)) + 1}\n",
    "# 파라미터 추가, Label must be in [0, num_class] -> num_class보다 1 커야한다.\n",
    "\n",
    "xgb_model = xgb.train(params = xgb_param, dtrain = train_xgb) # 학습 진행\n",
    "\n",
    "xgb_model_val_predict = xgb_model.predict(val_xgb) # 검증 데이터 예측\n",
    "xgb_model_predict = xgb_model.predict(test_xgb) # 평가 데이터 예측\n",
    "\n",
    "xgb_test_smape, xgb_valid_smape = smape(xgb_model_predict, y_test), smape(xgb_model_val_predict, y_val)\n",
    "\n",
    "print(xgb_test_smape)\n",
    "print(xgb_valid_smape)\n",
    "print(\"Time: %.2f\" % (time.time() - start)) # 코드 실행 시간 계산"
   ]
  },
  {
   "cell_type": "markdown",
   "metadata": {},
   "source": [
    "# Catboost"
   ]
  },
  {
   "cell_type": "code",
   "execution_count": null,
   "metadata": {},
   "outputs": [],
   "source": [
    "start = time.time()\n",
    "train_cb = cb.Pool(data = x_train, label = y_train)\n",
    "val_cb = cb.Pool(data = x_val, label = y_val)\n",
    "test_cb = cb.Pool(data = x_test, label = y_test)\n",
    "\n",
    "cb_parm = {'max_depth': 10, # 트리 깊이\n",
    "           'learning_rate': 0.01, # Step Size\n",
    "           'n_estimators': 100, # Number of trees, 트리 생성 개수\n",
    "           'eval_metric': 'SMAPE', # 목적 함수\n",
    "           'loss_function': 'RMSE'}\n",
    "# 파라미터 추가, Label must be in [0, num_class] -> num_class보다 1 커야한다.\n",
    "\n",
    "cb_model = cb.train(params = cb_param, pool = train_cb) # 학습 진행\n",
    "\n",
    "cb_model_val_predict = cb_model.predict(val_cb) # 검증 데이터 예측\n",
    "cb_model_predict = cb_model.predict(test_cb) # 평가 데이터 예측\n",
    "\n",
    "cb_test_smape, cb_valid_smape = smape(cb_model_predict, y_test), smape(cb_model_val_predict, y_val)\n",
    "\n",
    "print(cb_test_smape)\n",
    "print(cb_valid_smape)\n",
    "print(\"Time: %.2f\" % (time.time() - start)) # 코드 실행 시간 계산"
   ]
  },
  {
   "cell_type": "code",
   "execution_count": null,
   "metadata": {},
   "outputs": [],
   "source": []
  },
  {
   "cell_type": "code",
   "execution_count": null,
   "metadata": {},
   "outputs": [],
   "source": []
  },
  {
   "cell_type": "code",
   "execution_count": null,
   "metadata": {},
   "outputs": [],
   "source": []
  },
  {
   "cell_type": "code",
   "execution_count": null,
   "metadata": {},
   "outputs": [],
   "source": []
  },
  {
   "cell_type": "code",
   "execution_count": null,
   "metadata": {},
   "outputs": [],
   "source": []
  },
  {
   "cell_type": "code",
   "execution_count": null,
   "metadata": {},
   "outputs": [],
   "source": []
  }
 ],
 "metadata": {
  "kernelspec": {
   "display_name": "Tensorflow",
   "language": "python",
   "name": "tensorflow"
  },
  "language_info": {
   "codemirror_mode": {
    "name": "ipython",
    "version": 3
   },
   "file_extension": ".py",
   "mimetype": "text/x-python",
   "name": "python",
   "nbconvert_exporter": "python",
   "pygments_lexer": "ipython3",
   "version": "3.7.6"
  }
 },
 "nbformat": 4,
 "nbformat_minor": 4
}
