{
 "cells": [
  {
   "cell_type": "markdown",
   "metadata": {},
   "source": [
    "# 라이브러리 및 데이터"
   ]
  },
  {
   "cell_type": "markdown",
   "metadata": {},
   "source": [
    "### 라이브러리"
   ]
  },
  {
   "cell_type": "code",
   "execution_count": 29,
   "metadata": {
    "ExecuteTime": {
     "end_time": "2020-07-28T06:39:08.307431Z",
     "start_time": "2020-07-28T06:39:08.102702Z"
    }
   },
   "outputs": [],
   "source": [
    "import pandas as pd # 데이터 분석\n",
    "import numpy as np # 행렬 연산\n",
    "import random # 시드 제어\n",
    "from pandas import Series, DataFrame\n",
    "import sys\n",
    "import time\n",
    "import re\n",
    "\n",
    "import seaborn as sns\n",
    "import matplotlib.pyplot as plt # 시각화\n",
    "%matplotlib inline\n",
    "\n",
    "import datetime\n",
    "from workalendar.asia import SouthKorea # 한국의 공휴일\n",
    "\n",
    "import lightgbm as lgb\n",
    "import sklearn\n",
    "from sklearn.model_selection import train_test_split\n",
    "from sklearn.tree import DecisionTreeRegressor # 모델링\n",
    "from sklearn.metrics import make_scorer\n",
    "from sklearn.model_selection import KFold\n",
    "from sklearn.model_selection import cross_val_score\n",
    "from sklearn.preprocessing import StandardScaler\n",
    "from sklearn.ensemble import RandomForestRegressor\n",
    "from sklearn.ensemble import BaggingRegressor\n",
    "from sklearn.tree import ExtraTreeRegressor\n",
    "from sklearn.ensemble import AdaBoostRegressor\n",
    "import xgboost as xgb\n",
    "import catboost as cb\n",
    "\n",
    "import shap\n",
    "import skimage\n",
    "\n",
    "# 시드\n",
    "import os\n",
    "seed = 12345\n",
    "os.environ['PYTHONHASHSEED'] = str(seed)\n",
    "np.random.seed(seed)\n",
    "random.seed(seed)"
   ]
  },
  {
   "cell_type": "markdown",
   "metadata": {},
   "source": [
    "### 데이터셋 처리 및 분류"
   ]
  },
  {
   "cell_type": "code",
   "execution_count": 2,
   "metadata": {
    "ExecuteTime": {
     "end_time": "2020-07-28T06:23:06.521954Z",
     "start_time": "2020-07-28T06:23:05.797946Z"
    }
   },
   "outputs": [
    {
     "name": "stdout",
     "output_type": "stream",
     "text": [
      "(83271, 24) (83271,) (10409, 24) (10409,) (10409, 24) (10409,)\n"
     ]
    },
    {
     "name": "stderr",
     "output_type": "stream",
     "text": [
      "\n",
      "A value is trying to be set on a copy of a slice from a DataFrame.\n",
      "Try using .loc[row_indexer,col_indexer] = value instead\n",
      "\n",
      "See the caveats in the documentation: https://pandas.pydata.org/pandas-docs/stable/user_guide/indexing.html#returning-a-view-versus-a-copy\n",
      "\n",
      "A value is trying to be set on a copy of a slice from a DataFrame.\n",
      "Try using .loc[row_indexer,col_indexer] = value instead\n",
      "\n",
      "See the caveats in the documentation: https://pandas.pydata.org/pandas-docs/stable/user_guide/indexing.html#returning-a-view-versus-a-copy\n"
     ]
    }
   ],
   "source": [
    "# load dataset\n",
    "final_ans = pd.read_csv('section_2week.csv', sep=',')\n",
    "final_ans_test = pd.read_csv('section_2week_test.csv', sep=',')\n",
    "\n",
    "final = pd.concat([final_ans, final_ans_test])\n",
    "final = final.reset_index()\n",
    "del final['index']\n",
    "\n",
    "final = final.sort_values(by=['date'], axis=0)\n",
    "\n",
    "# date의 데이터 형식이 'yyyy-mm-dd'인 string이어서 lightgbm 내부에서 float으로 데이터를 변형시키지\n",
    "# 못하여 데이터의 형식을 'yyyymmdd'로 변환\n",
    "date_lst = []\n",
    "for value in final['date'].values:\n",
    "    val = re.sub(r\"[-]\",\"\",value)\n",
    "    date_lst.append(val)\n",
    "final['date'] = date_lst\n",
    "\n",
    "X = final[final_ans.columns.difference(['power'])]\n",
    "Y = final['power']\n",
    "\n",
    "X['date'] = X['date'].astype(float)\n",
    "\n",
    "col = ['date','day','dayofweek','holiday','min_temp','month','power_d',\n",
    "       'power_d1','power_d10','power_d11','power_d12','power_d13','power_d14',\n",
    "       'power_d2','power_d3','power_d4','power_d5','power_d6','power_d7',\n",
    "       'power_d8','power_d9','week','weekend','year']\n",
    "X_not = X[col]\n",
    "X_not['date'] = X_not['date'].astype(float)\n",
    "\n",
    "x_train, x_valtest, y_train, y_valtest = train_test_split(X_not, Y, test_size = 0.2, shuffle=False, random_state=seed)\n",
    "x_val, x_test, y_val, y_test = train_test_split(x_valtest, y_valtest, test_size = 0.5, shuffle=False, random_state=seed)\n",
    "print(x_train.shape, y_train.shape, x_val.shape, y_val.shape, x_test.shape, y_test.shape)"
   ]
  },
  {
   "cell_type": "markdown",
   "metadata": {},
   "source": [
    "# lightGBM"
   ]
  },
  {
   "cell_type": "code",
   "execution_count": 3,
   "metadata": {
    "ExecuteTime": {
     "end_time": "2020-07-28T06:23:09.145972Z",
     "start_time": "2020-07-28T06:23:06.523946Z"
    }
   },
   "outputs": [
    {
     "name": "stderr",
     "output_type": "stream",
     "text": [
      "Found `num_iterations` in params. Will use it instead of argument\n"
     ]
    },
    {
     "name": "stdout",
     "output_type": "stream",
     "text": [
      "Training until validation scores don't improve for 100 rounds\n",
      "[200]\tvalid_0's l1: 0.0316913\n",
      "Early stopping, best iteration is:\n",
      "[275]\tvalid_0's l1: 0.0316692\n"
     ]
    }
   ],
   "source": [
    "train_lgb = lgb.Dataset(x_train, label = y_train)\n",
    "val_lgb = lgb.Dataset(x_val, label = y_val)\n",
    "params = {'random_seed':seed, 'bagging_seed':seed,\n",
    "          'feature_fraction_seed':seed, 'data_random_seed':seed,\n",
    "          'drop_seed':seed,\n",
    "          'num_iterations':400,\n",
    "          'boosting_type':'gbdt', 'objective':'regression_l1',\n",
    "          'learning_rate':0.05, 'num_leaves':100, 'max_depth':-1,\n",
    "          'bagging_fraction':0.1, 'feature_fraction':0.8,\n",
    "          'lambda_l1':0.0, 'lambda_l2':15.0, 'max_bin':300}\n",
    "model = lgb.train(params, train_lgb, valid_sets = val_lgb,\n",
    "                  num_boost_round = 2000, early_stopping_rounds = 100,\n",
    "                  verbose_eval = 200)"
   ]
  },
  {
   "cell_type": "code",
   "execution_count": 4,
   "metadata": {
    "ExecuteTime": {
     "end_time": "2020-07-28T06:23:09.256985Z",
     "start_time": "2020-07-28T06:23:09.146973Z"
    }
   },
   "outputs": [],
   "source": [
    "lgb_test, lgb_valid = model.predict(x_test), model.predict(x_val)"
   ]
  },
  {
   "cell_type": "code",
   "execution_count": 5,
   "metadata": {
    "ExecuteTime": {
     "end_time": "2020-07-28T06:23:09.260985Z",
     "start_time": "2020-07-28T06:23:09.257984Z"
    }
   },
   "outputs": [],
   "source": [
    "def smape(array_1, array_2):\n",
    "    score = 100*np.mean(2*abs(array_1 - array_2)/(abs(array_1)+abs(array_2)))\n",
    "    return score"
   ]
  },
  {
   "cell_type": "code",
   "execution_count": 6,
   "metadata": {
    "ExecuteTime": {
     "end_time": "2020-07-28T06:23:09.283985Z",
     "start_time": "2020-07-28T06:23:09.261986Z"
    }
   },
   "outputs": [
    {
     "name": "stdout",
     "output_type": "stream",
     "text": [
      "12.35703830075168\n",
      "12.890580864703786\n"
     ]
    }
   ],
   "source": [
    "# predict과 test set의 smape 계산\n",
    "lgb_test_smape, lgb_valid_smape = smape(lgb_test, y_test), smape(lgb_valid, y_val)\n",
    "\n",
    "print(lgb_valid_smape)\n",
    "print(lgb_test_smape)"
   ]
  },
  {
   "cell_type": "code",
   "execution_count": 7,
   "metadata": {
    "ExecuteTime": {
     "end_time": "2020-07-28T06:23:09.288986Z",
     "start_time": "2020-07-28T06:23:09.286985Z"
    }
   },
   "outputs": [],
   "source": [
    "#np.savetxt('data/lgb_test.csv', lgb_test, delimiter=',')\n",
    "#np.savetxt('data/y_test.csv', y_test, delimiter=',')"
   ]
  },
  {
   "cell_type": "markdown",
   "metadata": {},
   "source": [
    "# lightGBM 결과 분석"
   ]
  },
  {
   "cell_type": "code",
   "execution_count": 8,
   "metadata": {
    "ExecuteTime": {
     "end_time": "2020-07-28T06:23:28.131477Z",
     "start_time": "2020-07-28T06:23:09.290985Z"
    }
   },
   "outputs": [
    {
     "name": "stderr",
     "output_type": "stream",
     "text": [
      "Setting feature_perturbation = \"tree_path_dependent\" because no background data was given.\n"
     ]
    }
   ],
   "source": [
    "explainer = shap.TreeExplainer(model)\n",
    "shap_values = explainer.shap_values(x_test)"
   ]
  },
  {
   "cell_type": "code",
   "execution_count": 9,
   "metadata": {
    "ExecuteTime": {
     "end_time": "2020-07-28T06:23:31.129189Z",
     "start_time": "2020-07-28T06:23:28.132477Z"
    }
   },
   "outputs": [
    {
     "data": {
      "image/png": "[encoded data removed]",
      "text/plain": [
       "<Figure size 576x684 with 2 Axes>"
      ]
     },
     "metadata": {
      "needs_background": "light"
     },
     "output_type": "display_data"
    }
   ],
   "source": [
    "shap.summary_plot(shap_values, x_test)"
   ]
  },
  {
   "cell_type": "code",
   "execution_count": 10,
   "metadata": {
    "ExecuteTime": {
     "end_time": "2020-07-28T06:23:31.295818Z",
     "start_time": "2020-07-28T06:23:31.130189Z"
    }
   },
   "outputs": [
    {
     "data": {
      "image/png": "[encoded data removed]",
      "text/plain": [
       "<Figure size 576x684 with 1 Axes>"
      ]
     },
     "metadata": {
      "needs_background": "light"
     },
     "output_type": "display_data"
    }
   ],
   "source": [
    "shap.summary_plot(shap_values, x_test, plot_type=\"bar\")"
   ]
  },
  {
   "cell_type": "code",
   "execution_count": 11,
   "metadata": {
    "ExecuteTime": {
     "end_time": "2020-07-28T06:23:31.990821Z",
     "start_time": "2020-07-28T06:23:31.296833Z"
    }
   },
   "outputs": [
    {
     "data": {
      "image/png": "[encoded data removed]",
      "text/plain": [
       "<Figure size 540x360 with 2 Axes>"
      ]
     },
     "metadata": {
      "needs_background": "light"
     },
     "output_type": "display_data"
    }
   ],
   "source": [
    "shap.dependence_plot('power_d1', shap_values, x_test)"
   ]
  },
  {
   "cell_type": "markdown",
   "metadata": {},
   "source": [
    "# Decision tree"
   ]
  },
  {
   "cell_type": "code",
   "execution_count": 12,
   "metadata": {
    "ExecuteTime": {
     "end_time": "2020-07-28T06:23:31.995745Z",
     "start_time": "2020-07-28T06:23:31.991745Z"
    }
   },
   "outputs": [],
   "source": [
    "tree = DecisionTreeRegressor(ccp_alpha=0.0, criterion='mse', max_depth=5,\n",
    "                             max_features=len(col),\n",
    "                             max_leaf_nodes=None, min_impurity_decrease=0.0, \n",
    "                             min_impurity_split=None, min_samples_leaf=1,\n",
    "                             min_samples_split=2, min_weight_fraction_leaf=0.0,\n",
    "                             presort='deprecated', random_state=seed, splitter='best')"
   ]
  },
  {
   "cell_type": "code",
   "execution_count": 13,
   "metadata": {
    "ExecuteTime": {
     "end_time": "2020-07-28T06:23:32.684743Z",
     "start_time": "2020-07-28T06:23:31.996744Z"
    }
   },
   "outputs": [
    {
     "name": "stdout",
     "output_type": "stream",
     "text": [
      "13.86752467603572\n",
      "13.976457645694316\n"
     ]
    }
   ],
   "source": [
    "tree_fit = tree.fit(x_train, y_train)\n",
    "predictions = tree_fit.predict(x_test)\n",
    "validations = tree_fit.predict(x_val)\n",
    "test_score = smape(predictions, y_test)\n",
    "val_score = smape(validations, y_val)\n",
    "print(val_score)\n",
    "print(test_score)"
   ]
  },
  {
   "cell_type": "markdown",
   "metadata": {},
   "source": [
    "# Random forest"
   ]
  },
  {
   "cell_type": "code",
   "execution_count": 14,
   "metadata": {
    "ExecuteTime": {
     "end_time": "2020-07-28T06:23:32.690744Z",
     "start_time": "2020-07-28T06:23:32.685744Z"
    }
   },
   "outputs": [],
   "source": [
    "rand_tree = RandomForestRegressor(n_estimators=50, criterion='mse', max_depth=None,\n",
    "                                  min_samples_split=2, min_samples_leaf=1,\n",
    "                                  min_weight_fraction_leaf=0.0, max_features=len(col),\n",
    "                                  max_leaf_nodes=None, min_impurity_decrease=0.0, min_impurity_split=None,\n",
    "                                  bootstrap=True, oob_score=False, n_jobs=None, random_state=seed,\n",
    "                                  verbose=0, warm_start=False, ccp_alpha=0.0, max_samples=None)"
   ]
  },
  {
   "cell_type": "code",
   "execution_count": 15,
   "metadata": {
    "ExecuteTime": {
     "end_time": "2020-07-28T06:24:44.120024Z",
     "start_time": "2020-07-28T06:23:32.691778Z"
    }
   },
   "outputs": [
    {
     "name": "stdout",
     "output_type": "stream",
     "text": [
      "12.848769831702006\n",
      "13.504408961040395\n"
     ]
    }
   ],
   "source": [
    "rand_tree_fit = rand_tree.fit(x_train, y_train)\n",
    "predictions = rand_tree_fit.predict(x_test)\n",
    "validations = rand_tree_fit.predict(x_val)\n",
    "test_score = smape(predictions, y_test)\n",
    "val_score = smape(validations, y_val)\n",
    "print(val_score)\n",
    "print(test_score)"
   ]
  },
  {
   "cell_type": "markdown",
   "metadata": {},
   "source": [
    "# Bagging"
   ]
  },
  {
   "cell_type": "code",
   "execution_count": 16,
   "metadata": {
    "ExecuteTime": {
     "end_time": "2020-07-28T06:24:44.124952Z",
     "start_time": "2020-07-28T06:24:44.121952Z"
    }
   },
   "outputs": [],
   "source": [
    "bagging_tree = BaggingRegressor(base_estimator=tree, n_estimators=30,\n",
    "                                max_samples=1.0, max_features=1.0, bootstrap=True,\n",
    "                                bootstrap_features=False, oob_score=False,\n",
    "                                warm_start=False, n_jobs=None, random_state=seed,\n",
    "                                verbose=0)"
   ]
  },
  {
   "cell_type": "code",
   "execution_count": 17,
   "metadata": {
    "ExecuteTime": {
     "end_time": "2020-07-28T06:24:56.781710Z",
     "start_time": "2020-07-28T06:24:44.125949Z"
    }
   },
   "outputs": [
    {
     "name": "stdout",
     "output_type": "stream",
     "text": [
      "13.341365188470395\n",
      "13.556228173309892\n"
     ]
    }
   ],
   "source": [
    "bagging_tree_fit = bagging_tree.fit(x_train, y_train)\n",
    "predictions = bagging_tree_fit.predict(x_test)\n",
    "validations = bagging_tree_fit.predict(x_val)\n",
    "test_score = smape(predictions, y_test)\n",
    "val_score = smape(validations, y_val)\n",
    "print(val_score)\n",
    "print(test_score)"
   ]
  },
  {
   "cell_type": "markdown",
   "metadata": {},
   "source": [
    "# Extra tree"
   ]
  },
  {
   "cell_type": "code",
   "execution_count": 18,
   "metadata": {
    "ExecuteTime": {
     "end_time": "2020-07-28T06:24:56.788709Z",
     "start_time": "2020-07-28T06:24:56.783710Z"
    }
   },
   "outputs": [],
   "source": [
    "extra_tree = ExtraTreeRegressor(criterion='mse', splitter='random', max_depth=None,\n",
    "                                min_samples_split=2, min_samples_leaf=1,\n",
    "                                min_weight_fraction_leaf=0.0, max_features=len(col),\n",
    "                                random_state=seed, min_impurity_decrease=0.0, min_impurity_split=None,\n",
    "                                max_leaf_nodes=None, ccp_alpha=0.0)"
   ]
  },
  {
   "cell_type": "code",
   "execution_count": 19,
   "metadata": {
    "ExecuteTime": {
     "end_time": "2020-07-28T06:24:57.381870Z",
     "start_time": "2020-07-28T06:24:56.791328Z"
    }
   },
   "outputs": [
    {
     "name": "stdout",
     "output_type": "stream",
     "text": [
      "18.235221919993506\n",
      "18.566550143925717\n"
     ]
    }
   ],
   "source": [
    "extra_tree_fit = extra_tree.fit(x_train, y_train)\n",
    "predictions = extra_tree_fit.predict(x_test)\n",
    "validations = extra_tree_fit.predict(x_val)\n",
    "test_score = smape(predictions, y_test)\n",
    "val_score = smape(validations, y_val)\n",
    "print(val_score)\n",
    "print(test_score)"
   ]
  },
  {
   "cell_type": "markdown",
   "metadata": {},
   "source": [
    "# Adaboost"
   ]
  },
  {
   "cell_type": "code",
   "execution_count": 20,
   "metadata": {
    "ExecuteTime": {
     "end_time": "2020-07-28T06:24:57.387793Z",
     "start_time": "2020-07-28T06:24:57.382840Z"
    }
   },
   "outputs": [],
   "source": [
    "adabst = AdaBoostRegressor(base_estimator=None, n_estimators=50,\n",
    "                           learning_rate=1.0, loss='linear', random_state=None)"
   ]
  },
  {
   "cell_type": "code",
   "execution_count": 21,
   "metadata": {
    "ExecuteTime": {
     "end_time": "2020-07-28T06:25:08.872504Z",
     "start_time": "2020-07-28T06:24:57.389391Z"
    }
   },
   "outputs": [
    {
     "name": "stdout",
     "output_type": "stream",
     "text": [
      "19.650498279321486\n",
      "19.49627449888579\n"
     ]
    }
   ],
   "source": [
    "adabst_fit = adabst.fit(x_train, y_train)\n",
    "predictions = adabst_fit.predict(x_test)\n",
    "validations = adabst_fit.predict(x_val)\n",
    "test_score = smape(predictions, y_test)\n",
    "val_score = smape(validations, y_val)\n",
    "print(val_score)\n",
    "print(test_score)"
   ]
  },
  {
   "cell_type": "markdown",
   "metadata": {},
   "source": [
    "# Xgboost"
   ]
  },
  {
   "cell_type": "code",
   "execution_count": 32,
   "metadata": {
    "ExecuteTime": {
     "end_time": "2020-07-28T06:40:48.834358Z",
     "start_time": "2020-07-28T06:40:48.699850Z"
    }
   },
   "outputs": [
    {
     "name": "stdout",
     "output_type": "stream",
     "text": [
      "[15:40:48] WARNING: C:\\Users\\Administrator\\workspace\\xgboost-win64_release_1.1.0\\src\\learner.cc:480: \n",
      "Parameters: { n_estimators } might not be used.\n",
      "\n",
      "  This may not be accurate due to some parameters are only used in language bindings but\n",
      "  passed down to XGBoost core.  Or some parameters are not used but slip through this\n",
      "  verification. Please open an issue if you find above cases.\n",
      "\n",
      "\n"
     ]
    },
    {
     "ename": "OSError",
     "evalue": "[WinError -529697949] Windows Error 0xe06d7363",
     "output_type": "error",
     "traceback": [
      "\u001b[1;31m---------------------------------------------------------------------------\u001b[0m",
      "\u001b[1;31mOSError\u001b[0m                                   Traceback (most recent call last)",
      "\u001b[1;32m<ipython-input-32-f7916e825143>\u001b[0m in \u001b[0;36m<module>\u001b[1;34m\u001b[0m\n\u001b[0;32m     12\u001b[0m \u001b[1;31m# 파라미터 추가, Label must be in [0, num_class] -> num_class보다 1 커야한다.\u001b[0m\u001b[1;33m\u001b[0m\u001b[1;33m\u001b[0m\u001b[1;33m\u001b[0m\u001b[0m\n\u001b[0;32m     13\u001b[0m \u001b[1;33m\u001b[0m\u001b[0m\n\u001b[1;32m---> 14\u001b[1;33m \u001b[0mxgb_model\u001b[0m \u001b[1;33m=\u001b[0m \u001b[0mxgb\u001b[0m\u001b[1;33m.\u001b[0m\u001b[0mtrain\u001b[0m\u001b[1;33m(\u001b[0m\u001b[0mparams\u001b[0m \u001b[1;33m=\u001b[0m \u001b[0mxgb_param\u001b[0m\u001b[1;33m,\u001b[0m \u001b[0mdtrain\u001b[0m \u001b[1;33m=\u001b[0m \u001b[0mtrain_xgb\u001b[0m\u001b[1;33m)\u001b[0m \u001b[1;31m# 학습 진행\u001b[0m\u001b[1;33m\u001b[0m\u001b[1;33m\u001b[0m\u001b[0m\n\u001b[0m\u001b[0;32m     15\u001b[0m \u001b[1;33m\u001b[0m\u001b[0m\n\u001b[0;32m     16\u001b[0m \u001b[0mxgb_model_val_predict\u001b[0m \u001b[1;33m=\u001b[0m \u001b[0mxgb_model\u001b[0m\u001b[1;33m.\u001b[0m\u001b[0mpredict\u001b[0m\u001b[1;33m(\u001b[0m\u001b[0mval_xgb\u001b[0m\u001b[1;33m)\u001b[0m \u001b[1;31m# 검증 데이터 예측\u001b[0m\u001b[1;33m\u001b[0m\u001b[1;33m\u001b[0m\u001b[0m\n",
      "\u001b[1;32m~\\venv\\lib\\site-packages\\xgboost\\training.py\u001b[0m in \u001b[0;36mtrain\u001b[1;34m(params, dtrain, num_boost_round, evals, obj, feval, maximize, early_stopping_rounds, evals_result, verbose_eval, xgb_model, callbacks)\u001b[0m\n\u001b[0;32m    210\u001b[0m                            \u001b[0mevals\u001b[0m\u001b[1;33m=\u001b[0m\u001b[0mevals\u001b[0m\u001b[1;33m,\u001b[0m\u001b[1;33m\u001b[0m\u001b[1;33m\u001b[0m\u001b[0m\n\u001b[0;32m    211\u001b[0m                            \u001b[0mobj\u001b[0m\u001b[1;33m=\u001b[0m\u001b[0mobj\u001b[0m\u001b[1;33m,\u001b[0m \u001b[0mfeval\u001b[0m\u001b[1;33m=\u001b[0m\u001b[0mfeval\u001b[0m\u001b[1;33m,\u001b[0m\u001b[1;33m\u001b[0m\u001b[1;33m\u001b[0m\u001b[0m\n\u001b[1;32m--> 212\u001b[1;33m                            xgb_model=xgb_model, callbacks=callbacks)\n\u001b[0m\u001b[0;32m    213\u001b[0m \u001b[1;33m\u001b[0m\u001b[0m\n\u001b[0;32m    214\u001b[0m \u001b[1;33m\u001b[0m\u001b[0m\n",
      "\u001b[1;32m~\\venv\\lib\\site-packages\\xgboost\\training.py\u001b[0m in \u001b[0;36m_train_internal\u001b[1;34m(params, dtrain, num_boost_round, evals, obj, feval, xgb_model, callbacks)\u001b[0m\n\u001b[0;32m     73\u001b[0m         \u001b[1;31m# Skip the first update if it is a recovery step.\u001b[0m\u001b[1;33m\u001b[0m\u001b[1;33m\u001b[0m\u001b[1;33m\u001b[0m\u001b[0m\n\u001b[0;32m     74\u001b[0m         \u001b[1;32mif\u001b[0m \u001b[0mversion\u001b[0m \u001b[1;33m%\u001b[0m \u001b[1;36m2\u001b[0m \u001b[1;33m==\u001b[0m \u001b[1;36m0\u001b[0m\u001b[1;33m:\u001b[0m\u001b[1;33m\u001b[0m\u001b[1;33m\u001b[0m\u001b[0m\n\u001b[1;32m---> 75\u001b[1;33m             \u001b[0mbst\u001b[0m\u001b[1;33m.\u001b[0m\u001b[0mupdate\u001b[0m\u001b[1;33m(\u001b[0m\u001b[0mdtrain\u001b[0m\u001b[1;33m,\u001b[0m \u001b[0mi\u001b[0m\u001b[1;33m,\u001b[0m \u001b[0mobj\u001b[0m\u001b[1;33m)\u001b[0m\u001b[1;33m\u001b[0m\u001b[1;33m\u001b[0m\u001b[0m\n\u001b[0m\u001b[0;32m     76\u001b[0m             \u001b[0mbst\u001b[0m\u001b[1;33m.\u001b[0m\u001b[0msave_rabit_checkpoint\u001b[0m\u001b[1;33m(\u001b[0m\u001b[1;33m)\u001b[0m\u001b[1;33m\u001b[0m\u001b[1;33m\u001b[0m\u001b[0m\n\u001b[0;32m     77\u001b[0m             \u001b[0mversion\u001b[0m \u001b[1;33m+=\u001b[0m \u001b[1;36m1\u001b[0m\u001b[1;33m\u001b[0m\u001b[1;33m\u001b[0m\u001b[0m\n",
      "\u001b[1;32m~\\venv\\lib\\site-packages\\xgboost\\core.py\u001b[0m in \u001b[0;36mupdate\u001b[1;34m(self, dtrain, iteration, fobj)\u001b[0m\n\u001b[0;32m   1367\u001b[0m             _check_call(_LIB.XGBoosterUpdateOneIter(self.handle,\n\u001b[0;32m   1368\u001b[0m                                                     \u001b[0mctypes\u001b[0m\u001b[1;33m.\u001b[0m\u001b[0mc_int\u001b[0m\u001b[1;33m(\u001b[0m\u001b[0miteration\u001b[0m\u001b[1;33m)\u001b[0m\u001b[1;33m,\u001b[0m\u001b[1;33m\u001b[0m\u001b[1;33m\u001b[0m\u001b[0m\n\u001b[1;32m-> 1369\u001b[1;33m                                                     dtrain.handle))\n\u001b[0m\u001b[0;32m   1370\u001b[0m         \u001b[1;32melse\u001b[0m\u001b[1;33m:\u001b[0m\u001b[1;33m\u001b[0m\u001b[1;33m\u001b[0m\u001b[0m\n\u001b[0;32m   1371\u001b[0m             \u001b[0mpred\u001b[0m \u001b[1;33m=\u001b[0m \u001b[0mself\u001b[0m\u001b[1;33m.\u001b[0m\u001b[0mpredict\u001b[0m\u001b[1;33m(\u001b[0m\u001b[0mdtrain\u001b[0m\u001b[1;33m,\u001b[0m \u001b[0moutput_margin\u001b[0m\u001b[1;33m=\u001b[0m\u001b[1;32mTrue\u001b[0m\u001b[1;33m,\u001b[0m \u001b[0mtraining\u001b[0m\u001b[1;33m=\u001b[0m\u001b[1;32mTrue\u001b[0m\u001b[1;33m)\u001b[0m\u001b[1;33m\u001b[0m\u001b[1;33m\u001b[0m\u001b[0m\n",
      "\u001b[1;31mOSError\u001b[0m: [WinError -529697949] Windows Error 0xe06d7363"
     ]
    }
   ],
   "source": [
    "start = time.time()\n",
    "\n",
    "train_xgb = xgb.DMatrix(data = x_train, label = y_train)\n",
    "val_xgb = xgb.DMatrix(data = x_val, label = y_val)\n",
    "test_xgb = xgb.DMatrix(data = x_test, label = y_test)\n",
    "\n",
    "xgb_param = {'max_depth': 10, # 트리 깊이\n",
    "           'learning_rate': 0.01, # Step Size\n",
    "           'n_estimators': 100, # Number of trees, 트리 생성 개수\n",
    "           'objective': 'reg:squarederror', # 목적 함수\n",
    "           'num_class': len(set(y_train)) + 1}\n",
    "# 파라미터 추가, Label must be in [0, num_class] -> num_class보다 1 커야한다.\n",
    "\n",
    "xgb_model = xgb.train(params = xgb_param, dtrain = train_xgb) # 학습 진행\n",
    "\n",
    "xgb_model_val_predict = xgb_model.predict(val_xgb) # 검증 데이터 예측\n",
    "xgb_model_predict = xgb_model.predict(test_xgb) # 평가 데이터 예측\n",
    "\n",
    "xgb_test_smape, xgb_valid_smape = smape(xgb_model_predict, y_test), smape(xgb_model_val_predict, y_val)\n",
    "\n",
    "print(xgb_valid_smape)\n",
    "print(xgb_test_smape)\n",
    "print(\"Time: %.2f\" % (time.time() - start)) # 코드 실행 시간 계산"
   ]
  },
  {
   "cell_type": "markdown",
   "metadata": {},
   "source": [
    "# Catboost"
   ]
  },
  {
   "cell_type": "code",
   "execution_count": 31,
   "metadata": {
    "ExecuteTime": {
     "end_time": "2020-07-28T06:39:26.198954Z",
     "start_time": "2020-07-28T06:39:18.998746Z"
    }
   },
   "outputs": [
    {
     "name": "stdout",
     "output_type": "stream",
     "text": [
      "0:\tlearn: 32.6700942\ttotal: 119ms\tremaining: 11.8s\n",
      "1:\tlearn: 32.4539350\ttotal: 173ms\tremaining: 8.48s\n",
      "2:\tlearn: 32.2363634\ttotal: 229ms\tremaining: 7.42s\n",
      "3:\tlearn: 32.0234350\ttotal: 286ms\tremaining: 6.86s\n",
      "4:\tlearn: 31.8152600\ttotal: 352ms\tremaining: 6.69s\n",
      "5:\tlearn: 31.6052207\ttotal: 411ms\tremaining: 6.44s\n",
      "6:\tlearn: 31.4028947\ttotal: 470ms\tremaining: 6.24s\n",
      "7:\tlearn: 31.2019416\ttotal: 527ms\tremaining: 6.06s\n",
      "8:\tlearn: 31.0004584\ttotal: 593ms\tremaining: 5.99s\n",
      "9:\tlearn: 30.8001775\ttotal: 656ms\tremaining: 5.9s\n",
      "10:\tlearn: 30.5996811\ttotal: 711ms\tremaining: 5.75s\n",
      "11:\tlearn: 30.4027615\ttotal: 772ms\tremaining: 5.66s\n",
      "12:\tlearn: 30.2158406\ttotal: 844ms\tremaining: 5.65s\n",
      "13:\tlearn: 30.0247743\ttotal: 911ms\tremaining: 5.6s\n",
      "14:\tlearn: 29.8351675\ttotal: 989ms\tremaining: 5.6s\n",
      "15:\tlearn: 29.6476364\ttotal: 1.06s\tremaining: 5.55s\n",
      "16:\tlearn: 29.4631323\ttotal: 1.12s\tremaining: 5.47s\n",
      "17:\tlearn: 29.2803960\ttotal: 1.19s\tremaining: 5.43s\n",
      "18:\tlearn: 29.0980978\ttotal: 1.27s\tremaining: 5.41s\n",
      "19:\tlearn: 28.9190319\ttotal: 1.35s\tremaining: 5.4s\n",
      "20:\tlearn: 28.7405605\ttotal: 1.43s\tremaining: 5.36s\n",
      "21:\tlearn: 28.5629116\ttotal: 1.5s\tremaining: 5.32s\n",
      "22:\tlearn: 28.3903513\ttotal: 1.56s\tremaining: 5.21s\n",
      "23:\tlearn: 28.2172781\ttotal: 1.62s\tremaining: 5.12s\n",
      "24:\tlearn: 28.0516202\ttotal: 1.7s\tremaining: 5.1s\n",
      "25:\tlearn: 27.8846161\ttotal: 1.79s\tremaining: 5.09s\n",
      "26:\tlearn: 27.7177612\ttotal: 1.88s\tremaining: 5.07s\n",
      "27:\tlearn: 27.5551778\ttotal: 1.96s\tremaining: 5.04s\n",
      "28:\tlearn: 27.3915093\ttotal: 2.03s\tremaining: 4.97s\n",
      "29:\tlearn: 27.2269920\ttotal: 2.09s\tremaining: 4.87s\n",
      "30:\tlearn: 27.0664478\ttotal: 2.15s\tremaining: 4.79s\n",
      "31:\tlearn: 26.9122131\ttotal: 2.22s\tremaining: 4.71s\n",
      "32:\tlearn: 26.7599889\ttotal: 2.28s\tremaining: 4.63s\n",
      "33:\tlearn: 26.6062058\ttotal: 2.35s\tremaining: 4.57s\n",
      "34:\tlearn: 26.4565041\ttotal: 2.44s\tremaining: 4.53s\n",
      "35:\tlearn: 26.3068032\ttotal: 2.53s\tremaining: 4.5s\n",
      "36:\tlearn: 26.1574246\ttotal: 2.61s\tremaining: 4.45s\n",
      "37:\tlearn: 26.0113473\ttotal: 2.67s\tremaining: 4.36s\n",
      "38:\tlearn: 25.8655210\ttotal: 2.74s\tremaining: 4.28s\n",
      "39:\tlearn: 25.7221292\ttotal: 2.8s\tremaining: 4.21s\n",
      "40:\tlearn: 25.5797816\ttotal: 2.86s\tremaining: 4.12s\n",
      "41:\tlearn: 25.4394698\ttotal: 2.93s\tremaining: 4.04s\n",
      "42:\tlearn: 25.3036857\ttotal: 2.99s\tremaining: 3.97s\n",
      "43:\tlearn: 25.1673348\ttotal: 3.05s\tremaining: 3.88s\n",
      "44:\tlearn: 25.0290832\ttotal: 3.12s\tremaining: 3.81s\n",
      "45:\tlearn: 24.8919686\ttotal: 3.19s\tremaining: 3.74s\n",
      "46:\tlearn: 24.7560944\ttotal: 3.25s\tremaining: 3.66s\n",
      "47:\tlearn: 24.6261882\ttotal: 3.31s\tremaining: 3.58s\n",
      "48:\tlearn: 24.4950210\ttotal: 3.37s\tremaining: 3.51s\n",
      "49:\tlearn: 24.3671642\ttotal: 3.43s\tremaining: 3.43s\n",
      "50:\tlearn: 24.2408324\ttotal: 3.49s\tremaining: 3.35s\n",
      "51:\tlearn: 24.1132750\ttotal: 3.57s\tremaining: 3.29s\n",
      "52:\tlearn: 23.9904277\ttotal: 3.66s\tremaining: 3.25s\n",
      "53:\tlearn: 23.8670334\ttotal: 3.75s\tremaining: 3.2s\n",
      "54:\tlearn: 23.7440299\ttotal: 3.83s\tremaining: 3.13s\n",
      "55:\tlearn: 23.6253273\ttotal: 3.89s\tremaining: 3.06s\n",
      "56:\tlearn: 23.5072498\ttotal: 3.94s\tremaining: 2.98s\n",
      "57:\tlearn: 23.3879923\ttotal: 4.01s\tremaining: 2.91s\n",
      "58:\tlearn: 23.2720231\ttotal: 4.08s\tremaining: 2.84s\n",
      "59:\tlearn: 23.1573570\ttotal: 4.17s\tremaining: 2.78s\n",
      "60:\tlearn: 23.0449611\ttotal: 4.25s\tremaining: 2.72s\n",
      "61:\tlearn: 22.9355674\ttotal: 4.31s\tremaining: 2.64s\n",
      "62:\tlearn: 22.8255408\ttotal: 4.37s\tremaining: 2.57s\n",
      "63:\tlearn: 22.7157556\ttotal: 4.44s\tremaining: 2.5s\n",
      "64:\tlearn: 22.6096432\ttotal: 4.52s\tremaining: 2.44s\n",
      "65:\tlearn: 22.5035419\ttotal: 4.61s\tremaining: 2.37s\n",
      "66:\tlearn: 22.3979127\ttotal: 4.68s\tremaining: 2.31s\n",
      "67:\tlearn: 22.2933770\ttotal: 4.74s\tremaining: 2.23s\n",
      "68:\tlearn: 22.1881399\ttotal: 4.8s\tremaining: 2.16s\n",
      "69:\tlearn: 22.0857140\ttotal: 4.87s\tremaining: 2.09s\n",
      "70:\tlearn: 21.9867681\ttotal: 4.93s\tremaining: 2.01s\n",
      "71:\tlearn: 21.8872253\ttotal: 4.99s\tremaining: 1.94s\n",
      "72:\tlearn: 21.7871742\ttotal: 5.06s\tremaining: 1.87s\n",
      "73:\tlearn: 21.6936805\ttotal: 5.12s\tremaining: 1.8s\n",
      "74:\tlearn: 21.5963306\ttotal: 5.17s\tremaining: 1.73s\n",
      "75:\tlearn: 21.5007962\ttotal: 5.24s\tremaining: 1.66s\n",
      "76:\tlearn: 21.4051767\ttotal: 5.3s\tremaining: 1.58s\n",
      "77:\tlearn: 21.3114933\ttotal: 5.37s\tremaining: 1.51s\n",
      "78:\tlearn: 21.2198603\ttotal: 5.45s\tremaining: 1.45s\n",
      "79:\tlearn: 21.1274922\ttotal: 5.55s\tremaining: 1.39s\n",
      "80:\tlearn: 21.0391560\ttotal: 5.64s\tremaining: 1.32s\n",
      "81:\tlearn: 20.9512249\ttotal: 5.7s\tremaining: 1.25s\n",
      "82:\tlearn: 20.8623577\ttotal: 5.76s\tremaining: 1.18s\n",
      "83:\tlearn: 20.7753029\ttotal: 5.83s\tremaining: 1.11s\n",
      "84:\tlearn: 20.6903795\ttotal: 5.89s\tremaining: 1.04s\n",
      "85:\tlearn: 20.6054348\ttotal: 5.95s\tremaining: 968ms\n",
      "86:\tlearn: 20.5202328\ttotal: 6.01s\tremaining: 899ms\n",
      "87:\tlearn: 20.4365016\ttotal: 6.07s\tremaining: 828ms\n",
      "88:\tlearn: 20.3546436\ttotal: 6.13s\tremaining: 757ms\n",
      "89:\tlearn: 20.2724463\ttotal: 6.19s\tremaining: 688ms\n",
      "90:\tlearn: 20.1921832\ttotal: 6.27s\tremaining: 620ms\n",
      "91:\tlearn: 20.1132321\ttotal: 6.37s\tremaining: 554ms\n",
      "92:\tlearn: 20.0363965\ttotal: 6.45s\tremaining: 486ms\n",
      "93:\tlearn: 19.9593477\ttotal: 6.52s\tremaining: 416ms\n",
      "94:\tlearn: 19.8814142\ttotal: 6.57s\tremaining: 346ms\n",
      "95:\tlearn: 19.8066499\ttotal: 6.63s\tremaining: 276ms\n",
      "96:\tlearn: 19.7308357\ttotal: 6.7s\tremaining: 207ms\n",
      "97:\tlearn: 19.6572907\ttotal: 6.79s\tremaining: 139ms\n",
      "98:\tlearn: 19.5840528\ttotal: 6.88s\tremaining: 69.5ms\n",
      "99:\tlearn: 19.5102215\ttotal: 6.96s\tremaining: 0us\n",
      "19.00391815738446\n",
      "18.962502824329867\n",
      "Time: 7.19\n"
     ]
    }
   ],
   "source": [
    "start = time.time()\n",
    "train_cb = cb.Pool(data = x_train, label = y_train)\n",
    "val_cb = cb.Pool(data = x_val, label = y_val)\n",
    "test_cb = cb.Pool(data = x_test, label = y_test)\n",
    "\n",
    "cb_param = {'max_depth': 10, # 트리 깊이\n",
    "           'learning_rate': 0.01, # Step Size\n",
    "           'n_estimators': 100, # Number of trees, 트리 생성 개수\n",
    "           'eval_metric': 'SMAPE', # 목적 함수\n",
    "           'loss_function': 'RMSE'}\n",
    "# 파라미터 추가, Label must be in [0, num_class] -> num_class보다 1 커야한다.\n",
    "\n",
    "cb_model = cb.train(params = cb_param, pool = train_cb) # 학습 진행\n",
    "\n",
    "cb_model_val_predict = cb_model.predict(val_cb) # 검증 데이터 예측\n",
    "cb_model_predict = cb_model.predict(test_cb) # 평가 데이터 예측\n",
    "\n",
    "cb_test_smape, cb_valid_smape = smape(cb_model_predict, y_test), smape(cb_model_val_predict, y_val)\n",
    "\n",
    "print(cb_test_smape)\n",
    "print(cb_valid_smape)\n",
    "print(\"Time: %.2f\" % (time.time() - start)) # 코드 실행 시간 계산"
   ]
  },
  {
   "cell_type": "code",
   "execution_count": null,
   "metadata": {},
   "outputs": [],
   "source": []
  }
 ],
 "metadata": {
  "kernelspec": {
   "display_name": "Tensorflow",
   "language": "python",
   "name": "tensorflow"
  },
  "language_info": {
   "codemirror_mode": {
    "name": "ipython",
    "version": 3
   },
   "file_extension": ".py",
   "mimetype": "text/x-python",
   "name": "python",
   "nbconvert_exporter": "python",
   "pygments_lexer": "ipython3",
   "version": "3.7.6"
  }
 },
 "nbformat": 4,
 "nbformat_minor": 4
}
